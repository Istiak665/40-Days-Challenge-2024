{
 "cells": [
  {
   "cell_type": "code",
   "execution_count": 1,
   "metadata": {},
   "outputs": [],
   "source": [
    "import featuretools as ft"
   ]
  },
  {
   "cell_type": "markdown",
   "metadata": {},
   "source": [
    "### Representing data with EntitySets\n",
    "Representing data with EntitySets is a fundamental concept in Feature Engineering using the featuretools library. An EntitySet is essentially a data structure that holds multiple tables (DataFrames) and captures relationships between them. It provides a way to organize and manage your data for feature engineering purposes.\n",
    "\n",
    "#### EntitySet\n",
    "An EntitySet is a collection of dataframes and the relationships between them. They are useful for preparing raw, structured datasets for feature engineering. While many functions in Featuretools take dataframes and relationships as separate arguments, it is recommended to create an EntitySet, so you can more easily manipulate your data as needed."
   ]
  },
  {
   "cell_type": "markdown",
   "metadata": {},
   "source": [
    "### The Raw Data\n",
    "Below we have two tables of data (represented as Pandas DataFrames) related to customer transactions. The first is a merge of transactions, sessions, and customers so that the result looks like something you might see in a log file:"
   ]
  },
  {
   "cell_type": "code",
   "execution_count": 4,
   "metadata": {},
   "outputs": [
    {
     "data": {
      "text/html": [
       "<div>\n",
       "<style scoped>\n",
       "    .dataframe tbody tr th:only-of-type {\n",
       "        vertical-align: middle;\n",
       "    }\n",
       "\n",
       "    .dataframe tbody tr th {\n",
       "        vertical-align: top;\n",
       "    }\n",
       "\n",
       "    .dataframe thead th {\n",
       "        text-align: right;\n",
       "    }\n",
       "</style>\n",
       "<table border=\"1\" class=\"dataframe\">\n",
       "  <thead>\n",
       "    <tr style=\"text-align: right;\">\n",
       "      <th></th>\n",
       "      <th>transaction_id</th>\n",
       "      <th>session_id</th>\n",
       "      <th>transaction_time</th>\n",
       "      <th>product_id</th>\n",
       "      <th>amount</th>\n",
       "      <th>customer_id</th>\n",
       "      <th>device</th>\n",
       "      <th>session_start</th>\n",
       "      <th>zip_code</th>\n",
       "      <th>join_date</th>\n",
       "      <th>date_of_birth</th>\n",
       "    </tr>\n",
       "  </thead>\n",
       "  <tbody>\n",
       "    <tr>\n",
       "      <th>0</th>\n",
       "      <td>298</td>\n",
       "      <td>1</td>\n",
       "      <td>2014-01-01 00:00:00</td>\n",
       "      <td>5</td>\n",
       "      <td>127.64</td>\n",
       "      <td>2</td>\n",
       "      <td>desktop</td>\n",
       "      <td>2014-01-01</td>\n",
       "      <td>13244</td>\n",
       "      <td>2012-04-15 23:31:04</td>\n",
       "      <td>1986-08-18</td>\n",
       "    </tr>\n",
       "    <tr>\n",
       "      <th>1</th>\n",
       "      <td>2</td>\n",
       "      <td>1</td>\n",
       "      <td>2014-01-01 00:01:05</td>\n",
       "      <td>2</td>\n",
       "      <td>109.48</td>\n",
       "      <td>2</td>\n",
       "      <td>desktop</td>\n",
       "      <td>2014-01-01</td>\n",
       "      <td>13244</td>\n",
       "      <td>2012-04-15 23:31:04</td>\n",
       "      <td>1986-08-18</td>\n",
       "    </tr>\n",
       "    <tr>\n",
       "      <th>2</th>\n",
       "      <td>308</td>\n",
       "      <td>1</td>\n",
       "      <td>2014-01-01 00:02:10</td>\n",
       "      <td>3</td>\n",
       "      <td>95.06</td>\n",
       "      <td>2</td>\n",
       "      <td>desktop</td>\n",
       "      <td>2014-01-01</td>\n",
       "      <td>13244</td>\n",
       "      <td>2012-04-15 23:31:04</td>\n",
       "      <td>1986-08-18</td>\n",
       "    </tr>\n",
       "    <tr>\n",
       "      <th>3</th>\n",
       "      <td>116</td>\n",
       "      <td>1</td>\n",
       "      <td>2014-01-01 00:03:15</td>\n",
       "      <td>4</td>\n",
       "      <td>78.92</td>\n",
       "      <td>2</td>\n",
       "      <td>desktop</td>\n",
       "      <td>2014-01-01</td>\n",
       "      <td>13244</td>\n",
       "      <td>2012-04-15 23:31:04</td>\n",
       "      <td>1986-08-18</td>\n",
       "    </tr>\n",
       "    <tr>\n",
       "      <th>4</th>\n",
       "      <td>371</td>\n",
       "      <td>1</td>\n",
       "      <td>2014-01-01 00:04:20</td>\n",
       "      <td>3</td>\n",
       "      <td>31.54</td>\n",
       "      <td>2</td>\n",
       "      <td>desktop</td>\n",
       "      <td>2014-01-01</td>\n",
       "      <td>13244</td>\n",
       "      <td>2012-04-15 23:31:04</td>\n",
       "      <td>1986-08-18</td>\n",
       "    </tr>\n",
       "  </tbody>\n",
       "</table>\n",
       "</div>"
      ],
      "text/plain": [
       "   transaction_id  session_id    transaction_time product_id  amount  \\\n",
       "0             298           1 2014-01-01 00:00:00          5  127.64   \n",
       "1               2           1 2014-01-01 00:01:05          2  109.48   \n",
       "2             308           1 2014-01-01 00:02:10          3   95.06   \n",
       "3             116           1 2014-01-01 00:03:15          4   78.92   \n",
       "4             371           1 2014-01-01 00:04:20          3   31.54   \n",
       "\n",
       "   customer_id   device session_start zip_code           join_date  \\\n",
       "0            2  desktop    2014-01-01    13244 2012-04-15 23:31:04   \n",
       "1            2  desktop    2014-01-01    13244 2012-04-15 23:31:04   \n",
       "2            2  desktop    2014-01-01    13244 2012-04-15 23:31:04   \n",
       "3            2  desktop    2014-01-01    13244 2012-04-15 23:31:04   \n",
       "4            2  desktop    2014-01-01    13244 2012-04-15 23:31:04   \n",
       "\n",
       "  date_of_birth  \n",
       "0    1986-08-18  \n",
       "1    1986-08-18  \n",
       "2    1986-08-18  \n",
       "3    1986-08-18  \n",
       "4    1986-08-18  "
      ]
     },
     "execution_count": 4,
     "metadata": {},
     "output_type": "execute_result"
    }
   ],
   "source": [
    "# Import Raw data\n",
    "data = ft.demo.load_mock_customer()\n",
    "transaction_df = data[\"transactions\"].merge(data[\"sessions\"]).merge(data[\"customers\"])\n",
    "transaction_df.head()"
   ]
  },
  {
   "cell_type": "markdown",
   "metadata": {},
   "source": [
    "And the second dataframe is a list of products involved in those transactions."
   ]
  },
  {
   "cell_type": "code",
   "execution_count": 5,
   "metadata": {},
   "outputs": [
    {
     "data": {
      "text/html": [
       "<div>\n",
       "<style scoped>\n",
       "    .dataframe tbody tr th:only-of-type {\n",
       "        vertical-align: middle;\n",
       "    }\n",
       "\n",
       "    .dataframe tbody tr th {\n",
       "        vertical-align: top;\n",
       "    }\n",
       "\n",
       "    .dataframe thead th {\n",
       "        text-align: right;\n",
       "    }\n",
       "</style>\n",
       "<table border=\"1\" class=\"dataframe\">\n",
       "  <thead>\n",
       "    <tr style=\"text-align: right;\">\n",
       "      <th></th>\n",
       "      <th>product_id</th>\n",
       "      <th>brand</th>\n",
       "    </tr>\n",
       "  </thead>\n",
       "  <tbody>\n",
       "    <tr>\n",
       "      <th>0</th>\n",
       "      <td>1</td>\n",
       "      <td>B</td>\n",
       "    </tr>\n",
       "    <tr>\n",
       "      <th>1</th>\n",
       "      <td>2</td>\n",
       "      <td>B</td>\n",
       "    </tr>\n",
       "    <tr>\n",
       "      <th>2</th>\n",
       "      <td>3</td>\n",
       "      <td>B</td>\n",
       "    </tr>\n",
       "    <tr>\n",
       "      <th>3</th>\n",
       "      <td>4</td>\n",
       "      <td>B</td>\n",
       "    </tr>\n",
       "    <tr>\n",
       "      <th>4</th>\n",
       "      <td>5</td>\n",
       "      <td>A</td>\n",
       "    </tr>\n",
       "  </tbody>\n",
       "</table>\n",
       "</div>"
      ],
      "text/plain": [
       "  product_id brand\n",
       "0          1     B\n",
       "1          2     B\n",
       "2          3     B\n",
       "3          4     B\n",
       "4          5     A"
      ]
     },
     "execution_count": 5,
     "metadata": {},
     "output_type": "execute_result"
    }
   ],
   "source": [
    "products_df = data[\"products\"]\n",
    "products_df.head()"
   ]
  },
  {
   "cell_type": "markdown",
   "metadata": {},
   "source": [
    "### Creating an EntitySet\n",
    "First, we initialize an EntitySet. If you’d like to give it a name, you can optionally provide an id to the constructor."
   ]
  },
  {
   "cell_type": "code",
   "execution_count": null,
   "metadata": {},
   "outputs": [],
   "source": [
    "es = ft.EntitySet(id=\"customer_data\")"
   ]
  },
  {
   "cell_type": "markdown",
   "metadata": {},
   "source": [
    "### Adding dataframes\n",
    "\n",
    "To get started, we add the transactions dataframe to the EntitySet. In the call to add_dataframe, we specify three important parameters:\n",
    "* The index parameter specifies the column that uniquely identifies rows in the dataframe.\n",
    "* The time_index parameter tells Featuretools when the data was created.\n",
    "* The logical_types parameter indicates that “product_id” should be interpreted as a Categorical column, even though it is just an integer in the underlying data."
   ]
  },
  {
   "cell_type": "code",
   "execution_count": 10,
   "metadata": {},
   "outputs": [
    {
     "ename": "ModuleNotFoundError",
     "evalue": "No module named 'woodwork.logical_type'",
     "output_type": "error",
     "traceback": [
      "\u001b[1;31m---------------------------------------------------------------------------\u001b[0m",
      "\u001b[1;31mModuleNotFoundError\u001b[0m                       Traceback (most recent call last)",
      "Cell \u001b[1;32mIn[10], line 1\u001b[0m\n\u001b[1;32m----> 1\u001b[0m \u001b[38;5;28;01mfrom\u001b[39;00m \u001b[38;5;21;01mwoodwork\u001b[39;00m\u001b[38;5;21;01m.\u001b[39;00m\u001b[38;5;21;01mlogical_type\u001b[39;00m \u001b[38;5;28;01mimport\u001b[39;00m Categorical, PostalCode\n",
      "\u001b[1;31mModuleNotFoundError\u001b[0m: No module named 'woodwork.logical_type'"
     ]
    }
   ],
   "source": [
    "from woodwork.logical_type import Categorical, PostalCode"
   ]
  }
 ],
 "metadata": {
  "kernelspec": {
   "display_name": "deeplearning",
   "language": "python",
   "name": "python3"
  },
  "language_info": {
   "codemirror_mode": {
    "name": "ipython",
    "version": 3
   },
   "file_extension": ".py",
   "mimetype": "text/x-python",
   "name": "python",
   "nbconvert_exporter": "python",
   "pygments_lexer": "ipython3",
   "version": "3.10.13"
  }
 },
 "nbformat": 4,
 "nbformat_minor": 2
}
